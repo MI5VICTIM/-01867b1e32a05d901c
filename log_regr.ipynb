{
 "cells": [
  {
   "cell_type": "code",
   "execution_count": 1,
   "metadata": {},
   "outputs": [
    {
     "data": {
      "text/html": [
       "<div>\n",
       "<style scoped>\n",
       "    .dataframe tbody tr th:only-of-type {\n",
       "        vertical-align: middle;\n",
       "    }\n",
       "\n",
       "    .dataframe tbody tr th {\n",
       "        vertical-align: top;\n",
       "    }\n",
       "\n",
       "    .dataframe thead th {\n",
       "        text-align: right;\n",
       "    }\n",
       "</style>\n",
       "<table border=\"1\" class=\"dataframe\">\n",
       "  <thead>\n",
       "    <tr style=\"text-align: right;\">\n",
       "      <th></th>\n",
       "      <th>group</th>\n",
       "      <th>date</th>\n",
       "      <th>day</th>\n",
       "      <th>Y</th>\n",
       "      <th>X1</th>\n",
       "      <th>X2</th>\n",
       "      <th>X3</th>\n",
       "    </tr>\n",
       "  </thead>\n",
       "  <tbody>\n",
       "    <tr>\n",
       "      <th>0</th>\n",
       "      <td>A</td>\n",
       "      <td>42919.385475</td>\n",
       "      <td>2017-07-03 09:15:05</td>\n",
       "      <td>25</td>\n",
       "      <td>9</td>\n",
       "      <td>169</td>\n",
       "      <td>25</td>\n",
       "    </tr>\n",
       "    <tr>\n",
       "      <th>1</th>\n",
       "      <td>A</td>\n",
       "      <td>42919.385509</td>\n",
       "      <td>2017-07-03 09:15:08</td>\n",
       "      <td>20</td>\n",
       "      <td>10</td>\n",
       "      <td>138</td>\n",
       "      <td>34</td>\n",
       "    </tr>\n",
       "    <tr>\n",
       "      <th>2</th>\n",
       "      <td>A</td>\n",
       "      <td>42919.385544</td>\n",
       "      <td>2017-07-03 09:15:11</td>\n",
       "      <td>20</td>\n",
       "      <td>9</td>\n",
       "      <td>149</td>\n",
       "      <td>36</td>\n",
       "    </tr>\n",
       "    <tr>\n",
       "      <th>3</th>\n",
       "      <td>A</td>\n",
       "      <td>42919.385613</td>\n",
       "      <td>2017-07-03 09:15:17</td>\n",
       "      <td>24</td>\n",
       "      <td>6</td>\n",
       "      <td>146</td>\n",
       "      <td>34</td>\n",
       "    </tr>\n",
       "    <tr>\n",
       "      <th>4</th>\n",
       "      <td>A</td>\n",
       "      <td>42919.386563</td>\n",
       "      <td>2017-07-03 09:16:39</td>\n",
       "      <td>23</td>\n",
       "      <td>7</td>\n",
       "      <td>143</td>\n",
       "      <td>36</td>\n",
       "    </tr>\n",
       "  </tbody>\n",
       "</table>\n",
       "</div>"
      ],
      "text/plain": [
       "  group          date                 day   Y  X1   X2  X3\n",
       "0     A  42919.385475 2017-07-03 09:15:05  25   9  169  25\n",
       "1     A  42919.385509 2017-07-03 09:15:08  20  10  138  34\n",
       "2     A  42919.385544 2017-07-03 09:15:11  20   9  149  36\n",
       "3     A  42919.385613 2017-07-03 09:15:17  24   6  146  34\n",
       "4     A  42919.386563 2017-07-03 09:16:39  23   7  143  36"
      ]
     },
     "execution_count": 1,
     "metadata": {},
     "output_type": "execute_result"
    }
   ],
   "source": [
    "import pandas as pd\n",
    "\n",
    "df = pd.read_excel(\"A_and_B_Combined_and_Results.xlsx\", sheet_name=0)\n",
    "df.head()"
   ]
  },
  {
   "cell_type": "code",
   "execution_count": 2,
   "metadata": {},
   "outputs": [],
   "source": [
    "# A -> 0, B -> 1\n",
    "df[\"group\"].replace(\"A\", 0, inplace=True)\n",
    "df[\"group\"].replace(\"B\", 1, inplace=True)"
   ]
  },
  {
   "cell_type": "code",
   "execution_count": 3,
   "metadata": {},
   "outputs": [
    {
     "data": {
      "text/html": [
       "<div>\n",
       "<style scoped>\n",
       "    .dataframe tbody tr th:only-of-type {\n",
       "        vertical-align: middle;\n",
       "    }\n",
       "\n",
       "    .dataframe tbody tr th {\n",
       "        vertical-align: top;\n",
       "    }\n",
       "\n",
       "    .dataframe thead th {\n",
       "        text-align: right;\n",
       "    }\n",
       "</style>\n",
       "<table border=\"1\" class=\"dataframe\">\n",
       "  <thead>\n",
       "    <tr style=\"text-align: right;\">\n",
       "      <th></th>\n",
       "      <th>group</th>\n",
       "      <th>date</th>\n",
       "      <th>day</th>\n",
       "      <th>Y</th>\n",
       "      <th>X1</th>\n",
       "      <th>X2</th>\n",
       "      <th>X3</th>\n",
       "    </tr>\n",
       "  </thead>\n",
       "  <tbody>\n",
       "    <tr>\n",
       "      <th>0</th>\n",
       "      <td>0</td>\n",
       "      <td>42919.385475</td>\n",
       "      <td>2017-07-03 09:15:05</td>\n",
       "      <td>25</td>\n",
       "      <td>9</td>\n",
       "      <td>169</td>\n",
       "      <td>25</td>\n",
       "    </tr>\n",
       "    <tr>\n",
       "      <th>1</th>\n",
       "      <td>0</td>\n",
       "      <td>42919.385509</td>\n",
       "      <td>2017-07-03 09:15:08</td>\n",
       "      <td>20</td>\n",
       "      <td>10</td>\n",
       "      <td>138</td>\n",
       "      <td>34</td>\n",
       "    </tr>\n",
       "    <tr>\n",
       "      <th>2</th>\n",
       "      <td>0</td>\n",
       "      <td>42919.385544</td>\n",
       "      <td>2017-07-03 09:15:11</td>\n",
       "      <td>20</td>\n",
       "      <td>9</td>\n",
       "      <td>149</td>\n",
       "      <td>36</td>\n",
       "    </tr>\n",
       "    <tr>\n",
       "      <th>3</th>\n",
       "      <td>0</td>\n",
       "      <td>42919.385613</td>\n",
       "      <td>2017-07-03 09:15:17</td>\n",
       "      <td>24</td>\n",
       "      <td>6</td>\n",
       "      <td>146</td>\n",
       "      <td>34</td>\n",
       "    </tr>\n",
       "    <tr>\n",
       "      <th>4</th>\n",
       "      <td>0</td>\n",
       "      <td>42919.386563</td>\n",
       "      <td>2017-07-03 09:16:39</td>\n",
       "      <td>23</td>\n",
       "      <td>7</td>\n",
       "      <td>143</td>\n",
       "      <td>36</td>\n",
       "    </tr>\n",
       "  </tbody>\n",
       "</table>\n",
       "</div>"
      ],
      "text/plain": [
       "   group          date                 day   Y  X1   X2  X3\n",
       "0      0  42919.385475 2017-07-03 09:15:05  25   9  169  25\n",
       "1      0  42919.385509 2017-07-03 09:15:08  20  10  138  34\n",
       "2      0  42919.385544 2017-07-03 09:15:11  20   9  149  36\n",
       "3      0  42919.385613 2017-07-03 09:15:17  24   6  146  34\n",
       "4      0  42919.386563 2017-07-03 09:16:39  23   7  143  36"
      ]
     },
     "execution_count": 3,
     "metadata": {},
     "output_type": "execute_result"
    }
   ],
   "source": [
    "df.head()"
   ]
  },
  {
   "cell_type": "code",
   "execution_count": 4,
   "metadata": {},
   "outputs": [
    {
     "data": {
      "text/plain": [
       "20211"
      ]
     },
     "execution_count": 4,
     "metadata": {},
     "output_type": "execute_result"
    }
   ],
   "source": [
    "len(df)"
   ]
  },
  {
   "cell_type": "code",
   "execution_count": 5,
   "metadata": {},
   "outputs": [
    {
     "data": {
      "text/plain": [
       "count    20211.000000\n",
       "mean         0.517936\n",
       "std          0.499691\n",
       "min          0.000000\n",
       "25%          0.000000\n",
       "50%          1.000000\n",
       "75%          1.000000\n",
       "max          1.000000\n",
       "Name: group, dtype: float64"
      ]
     },
     "execution_count": 5,
     "metadata": {},
     "output_type": "execute_result"
    }
   ],
   "source": [
    "df.group.describe()"
   ]
  },
  {
   "cell_type": "code",
   "execution_count": 6,
   "metadata": {},
   "outputs": [],
   "source": [
    "Y = df.group\n",
    "X = df[['date','Y', 'X1', 'X2', 'X3']]"
   ]
  },
  {
   "cell_type": "code",
   "execution_count": 7,
   "metadata": {},
   "outputs": [
    {
     "data": {
      "text/plain": [
       "1.0"
      ]
     },
     "execution_count": 7,
     "metadata": {},
     "output_type": "execute_result"
    }
   ],
   "source": [
    "from sklearn.linear_model import LogisticRegression\n",
    "from sklearn import metrics\n",
    "from sklearn.model_selection import train_test_split\n",
    "\n",
    "bin_clf = LogisticRegression()\n",
    "\n",
    "X_train, X_test, Y_train, Y_test = train_test_split(X, Y,\n",
    "                                                    test_size=0.2,\n",
    "                                                    random_state=0,\n",
    "                                                    stratify=Y)\n",
    "bin_clf.fit(X_train, Y_train)\n",
    "Y_test_pred = bin_clf.predict(X_test)\n",
    "\n",
    "metrics.accuracy_score(Y_test, Y_test_pred)"
   ]
  },
  {
   "cell_type": "code",
   "execution_count": 8,
   "metadata": {},
   "outputs": [
    {
     "name": "stdout",
     "output_type": "stream",
     "text": [
      "             precision    recall  f1-score   support\n",
      "\n",
      "          0       1.00      1.00      1.00      1949\n",
      "          1       1.00      1.00      1.00      2094\n",
      "\n",
      "avg / total       1.00      1.00      1.00      4043\n",
      "\n"
     ]
    }
   ],
   "source": [
    "print(metrics.classification_report(Y_test, Y_test_pred))"
   ]
  },
  {
   "cell_type": "code",
   "execution_count": 9,
   "metadata": {},
   "outputs": [
    {
     "name": "stdout",
     "output_type": "stream",
     "text": [
      "[[1949    0]\n",
      " [   0 2094]]\n"
     ]
    }
   ],
   "source": [
    "print(metrics.confusion_matrix(Y_test, Y_test_pred))"
   ]
  },
  {
   "cell_type": "code",
   "execution_count": 10,
   "metadata": {},
   "outputs": [
    {
     "data": {
      "text/plain": [
       "array([[ 0.00026891, -0.01148142, -0.00927764, -0.17032015, -0.0367705 ]])"
      ]
     },
     "execution_count": 10,
     "metadata": {},
     "output_type": "execute_result"
    }
   ],
   "source": [
    "bin_clf.coef_"
   ]
  },
  {
   "cell_type": "code",
   "execution_count": 11,
   "metadata": {},
   "outputs": [
    {
     "data": {
      "text/plain": [
       "array([-6.47810729e-09])"
      ]
     },
     "execution_count": 11,
     "metadata": {},
     "output_type": "execute_result"
    }
   ],
   "source": [
    "bin_clf.intercept_"
   ]
  },
  {
   "cell_type": "code",
   "execution_count": 12,
   "metadata": {},
   "outputs": [
    {
     "name": "stdout",
     "output_type": "stream",
     "text": [
      "[[ 9743     0]\n",
      " [    0 10468]]\n"
     ]
    }
   ],
   "source": [
    "Y_pred = bin_clf.predict(X)\n",
    "print(metrics.confusion_matrix(Y, Y_pred))"
   ]
  }
 ],
 "metadata": {
  "kernelspec": {
   "display_name": "Python 3",
   "language": "python",
   "name": "python3"
  },
  "language_info": {
   "codemirror_mode": {
    "name": "ipython",
    "version": 3
   },
   "file_extension": ".py",
   "mimetype": "text/x-python",
   "name": "python",
   "nbconvert_exporter": "python",
   "pygments_lexer": "ipython3",
   "version": "3.6.4"
  }
 },
 "nbformat": 4,
 "nbformat_minor": 2
}
